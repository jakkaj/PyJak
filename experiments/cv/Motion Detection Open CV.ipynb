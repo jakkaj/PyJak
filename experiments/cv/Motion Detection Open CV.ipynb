{
 "cells": [
  {
   "cell_type": "code",
   "execution_count": 1,
   "metadata": {},
   "outputs": [
    {
     "name": "stdout",
     "output_type": "stream",
     "text": [
      "OpenCV Version : 3.4.0 \n"
     ]
    }
   ],
   "source": [
    "%matplotlib inline\n",
    "import cv2\n",
    "import os\n",
    "import glob\n",
    "import subprocess\n",
    "from matplotlib import pyplot as plt\n",
    "import numpy as np\n",
    "import time as t\n",
    "print (\"OpenCV Version : %s \" % cv2.__version__)"
   ]
  },
  {
   "cell_type": "code",
   "execution_count": 2,
   "metadata": {},
   "outputs": [],
   "source": [
    "#os.chdir('E:/Tools/ffmpeg/ffmpeg-20170112-6596b34-win64-static/bin')\n",
    "#subprocess.call(['ffmpeg', '-i', 'C:/Temp/imagetemp/fisheries/vids.mp4', '-r', '1/.25', 'C://Temp/imagetemp/fisheries/output/IMG_%03d.jpg'])\n"
   ]
  },
  {
   "cell_type": "code",
   "execution_count": 3,
   "metadata": {},
   "outputs": [],
   "source": [
    "ffmpegPath = 'C:/Tools/ffmpeg/bin'\n",
    "videoInput = 'C:/Temp/imagetemp/fish/Video - LIS3B2-20170817-Lethrinus_laticaudis.mp4'\n",
    "outputTemp = 'C:/Temp/imagetemp/fish/output'\n",
    "outputVid = 'C:/Temp/imagetemp/fish/output2.mp4'"
   ]
  },
  {
   "cell_type": "code",
   "execution_count": null,
   "metadata": {},
   "outputs": [],
   "source": [
    "\n",
    "\n",
    "\n"
   ]
  },
  {
   "cell_type": "code",
   "execution_count": 4,
   "metadata": {},
   "outputs": [],
   "source": [
    "fgbg = cv2.createBackgroundSubtractorMOG2()"
   ]
  },
  {
   "cell_type": "code",
   "execution_count": 14,
   "metadata": {},
   "outputs": [],
   "source": [
    "files = glob.glob(outputTemp + '/*')\n",
    "for f in files:\n",
    "    os.remove(f)\n",
    "\n",
    "cap = cv2.VideoCapture(videoInput)\n",
    "\n",
    "\n",
    "ret, frame = cap.read()\n",
    "cou = 0\n",
    "\n",
    "blobParams = cv2.SimpleBlobDetector_Params()\n",
    "\n",
    "blobParams.minThreshold = 1;    # the graylevel of images\n",
    "blobParams.maxThreshold = 2000;\n",
    "\n",
    "blobParams.filterByColor = False\n",
    "blobParams.blobColor = 255\n",
    "\n",
    "# Filter by Area\n",
    "blobParams.filterByArea = False\n",
    "blobParams.minArea = 10000\n",
    "\n",
    "detector = cv2.SimpleBlobDetector_create(blobParams)\n",
    "\n",
    "while(True):\n",
    "    cou = cou + 1\n",
    "    ret, frame = cap.read()  \n",
    "    \n",
    "    #cv2.imshow('frame',fgmask)\n",
    "    if ret==True:\n",
    "        gray_image = cv2.cvtColor(frame, cv2.COLOR_BGR2GRAY)\n",
    "        smoothedFrame = cv2.GaussianBlur(gray_image,(9,9),0)\n",
    "        \n",
    "        \n",
    "        \n",
    "        diff = cv2.absdiff(smoothedFrame, gray_image)\n",
    "        \n",
    "        thresh = 2\n",
    "        maxValue = 255\n",
    " \n",
    "        # Basic threshold example\n",
    "        th, dst = cv2.threshold(diff, thresh, maxValue, cv2.THRESH_BINARY);\n",
    "        \n",
    "        kernel = np.ones((5,5), np.uint8)\n",
    "\n",
    "        \n",
    "        img_dilation = cv2.dilate(th, kernel, iterations=1)\n",
    "        \n",
    "        fgmask = fgbg.apply(img_dilation)\n",
    "        #keypoints = detector.detect(fgmask)\n",
    "        #im_with_keypoints = cv2.drawKeypoints(frame, keypoints, np.array([]), (255,255,255), cv2.DRAW_MATCHES_FLAGS_DRAW_RICH_KEYPOINTS)\n",
    "        # write the flipped frame\n",
    "        #out.write(frame)\n",
    "        cv2.imwrite(outputTemp + '/IMG_' + '{0:0{width}}'.format(cou, width=5) + '.jpg', dst)\n",
    "        \n",
    "        if cou > 400:\n",
    "            break\n",
    "        \n",
    "        if cv2.waitKey(1) & 0xFF == ord('q'):\n",
    "            break\n",
    "    else:\n",
    "        break\n",
    "\n",
    "# Release everything if job is finished\n",
    "cap.release()\n",
    "#out.release()\n",
    "cv2.destroyAllWindows()\n",
    "    \n",
    "   "
   ]
  },
  {
   "cell_type": "code",
   "execution_count": 15,
   "metadata": {},
   "outputs": [
    {
     "data": {
      "text/plain": [
       "0"
      ]
     },
     "execution_count": 15,
     "metadata": {},
     "output_type": "execute_result"
    }
   ],
   "source": [
    "os.chdir(ffmpegPath)\n",
    "subprocess.call(['ffmpeg', '-y', '-r', '25', '-start_number', '0', '-i', outputTemp + '/IMG_%05d.jpg', '-vcodec','libx264','-pix_fmt', 'yuv420p', outputVid])"
   ]
  },
  {
   "cell_type": "code",
   "execution_count": null,
   "metadata": {},
   "outputs": [],
   "source": []
  }
 ],
 "metadata": {
  "kernelspec": {
   "display_name": "Python 3",
   "language": "python",
   "name": "python3"
  },
  "language_info": {
   "codemirror_mode": {
    "name": "ipython",
    "version": 3
   },
   "file_extension": ".py",
   "mimetype": "text/x-python",
   "name": "python",
   "nbconvert_exporter": "python",
   "pygments_lexer": "ipython3",
   "version": "3.5.2"
  }
 },
 "nbformat": 4,
 "nbformat_minor": 2
}
