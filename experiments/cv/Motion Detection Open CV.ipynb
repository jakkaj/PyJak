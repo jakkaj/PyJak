{
 "cells": [
  {
   "cell_type": "code",
   "execution_count": 82,
   "metadata": {},
   "outputs": [
    {
     "name": "stdout",
     "output_type": "stream",
     "text": [
      "OpenCV Version : 3.3.0 \n"
     ]
    }
   ],
   "source": [
    "%matplotlib inline\n",
    "import cv2\n",
    "import os\n",
    "import subprocess\n",
    "from matplotlib import pyplot as plt\n",
    "import numpy as np\n",
    "import time as t\n",
    "print (\"OpenCV Version : %s \" % cv2.__version__)"
   ]
  },
  {
   "cell_type": "code",
   "execution_count": 83,
   "metadata": {},
   "outputs": [],
   "source": [
    "#os.chdir('E:/Tools/ffmpeg/ffmpeg-20170112-6596b34-win64-static/bin')\n",
    "#subprocess.call(['ffmpeg', '-i', 'C:/Temp/imagetemp/fisheries/vids.mp4', '-r', '1/.25', 'C://Temp/imagetemp/fisheries/output/IMG_%03d.jpg'])\n"
   ]
  },
  {
   "cell_type": "code",
   "execution_count": 84,
   "metadata": {},
   "outputs": [],
   "source": [
    "cap = cv2.VideoCapture('C:/Temp/imagetemp/fisheries/Video - CIS1B2_2016091-Protonibea_diacanthus.mp4')\n"
   ]
  },
  {
   "cell_type": "code",
   "execution_count": 85,
   "metadata": {},
   "outputs": [],
   "source": [
    "fgbg = cv2.createBackgroundSubtractorMOG2()"
   ]
  },
  {
   "cell_type": "code",
   "execution_count": 86,
   "metadata": {},
   "outputs": [],
   "source": [
    "ret, frame = cap.read()\n",
    "cou = 0\n",
    "while(True):\n",
    "    cou = cou + 1\n",
    "    ret, frame = cap.read()  \n",
    "    \n",
    "    #cv2.imshow('frame',fgmask)\n",
    "    if ret==True:\n",
    "        fgmask = fgbg.apply(frame)\n",
    "        # write the flipped frame\n",
    "        out.write(frame)\n",
    "        cv2.imwrite('C://Temp/imagetemp/fisheries/output/IMG_' + '{0:0{width}}'.format(cou, width=5) + '.jpg', fgmask)\n",
    "        if cv2.waitKey(1) & 0xFF == ord('q'):\n",
    "            break\n",
    "    else:\n",
    "        break\n",
    "\n",
    "# Release everything if job is finished\n",
    "cap.release()\n",
    "out.release()\n",
    "cv2.destroyAllWindows()\n",
    "    \n",
    "   "
   ]
  },
  {
   "cell_type": "code",
   "execution_count": 88,
   "metadata": {},
   "outputs": [
    {
     "data": {
      "text/plain": [
       "0"
      ]
     },
     "execution_count": 88,
     "metadata": {},
     "output_type": "execute_result"
    }
   ],
   "source": [
    "os.chdir('E:/Tools/ffmpeg/ffmpeg-20170112-6596b34-win64-static/bin')\n",
    "subprocess.call(['ffmpeg', '-y', '-r', '25', '-start_number', '0', '-i', 'C:/Temp/imagetemp/fisheries/output/IMG_%05d.jpg', '-vcodec','libx264', 'C:/Temp/imagetemp/fisheries/output.mp4'])"
   ]
  },
  {
   "cell_type": "code",
   "execution_count": null,
   "metadata": {},
   "outputs": [],
   "source": []
  }
 ],
 "metadata": {
  "kernelspec": {
   "display_name": "Python 3",
   "language": "python",
   "name": "python3"
  },
  "language_info": {
   "codemirror_mode": {
    "name": "ipython",
    "version": 3
   },
   "file_extension": ".py",
   "mimetype": "text/x-python",
   "name": "python",
   "nbconvert_exporter": "python",
   "pygments_lexer": "ipython3",
   "version": "3.5.2"
  }
 },
 "nbformat": 4,
 "nbformat_minor": 2
}
