{
 "cells": [
  {
   "cell_type": "code",
   "execution_count": 58,
   "metadata": {},
   "outputs": [
    {
     "name": "stdout",
     "output_type": "stream",
     "text": [
      "OpenCV Version : 3.4.0 \n"
     ]
    }
   ],
   "source": [
    "%matplotlib inline\n",
    "import cv2\n",
    "import os\n",
    "import glob\n",
    "import subprocess\n",
    "from matplotlib import pyplot as plt\n",
    "import numpy as np\n",
    "import time as t\n",
    "print (\"OpenCV Version : %s \" % cv2.__version__)"
   ]
  },
  {
   "cell_type": "code",
   "execution_count": 59,
   "metadata": {},
   "outputs": [],
   "source": [
    "#os.chdir('E:/Tools/ffmpeg/ffmpeg-20170112-6596b34-win64-static/bin')\n",
    "#subprocess.call(['ffmpeg', '-i', 'C:/Temp/imagetemp/fisheries/vids.mp4', '-r', '1/.25', 'C://Temp/imagetemp/fisheries/output/IMG_%03d.jpg'])\n"
   ]
  },
  {
   "cell_type": "code",
   "execution_count": 60,
   "metadata": {},
   "outputs": [],
   "source": [
    "ffmpegPath = 'C:/Tools/ffmpeg/bin'\n",
    "#videoInput = 'C:/Temp/imagetemp/fish/Video - BICPB2-20161011-Protonibea_diacanthus.mp4'\n",
    "videoInput = 'C:/Temp/imagetemp/fish/Video - BIH2B3-20161010-Lutjanus_johnii.mp4'\n",
    "#videoInput = 'C:/Temp/imagetemp/fish/Video - LIS3B2-20170817-Lethrinus_laticaudis.mp4'\n",
    "#videoInput = 'C:/Temp/imagetemp/fish/Video - LIS3B2-20170817-Lethrinus_laticaudis.mp4'\n",
    "#videoInput = 'C:/Temp/imagetemp/fish/Video - LIS3B2-20170817-Lethrinus_laticaudis.mp4'\n",
    "outputTemp = 'C:/Temp/imagetemp/fish/output'\n",
    "outputVid = 'C:/Temp/imagetemp/fish/output3.mp4'"
   ]
  },
  {
   "cell_type": "code",
   "execution_count": null,
   "metadata": {},
   "outputs": [],
   "source": [
    "\n",
    "\n",
    "\n"
   ]
  },
  {
   "cell_type": "code",
   "execution_count": 61,
   "metadata": {},
   "outputs": [],
   "source": [
    "fgbg = cv2.createBackgroundSubtractorMOG2()"
   ]
  },
  {
   "cell_type": "code",
   "execution_count": 64,
   "metadata": {},
   "outputs": [],
   "source": [
    "files = glob.glob(outputTemp + '/*')\n",
    "for f in files:\n",
    "    os.remove(f)\n",
    "\n",
    "cap = cv2.VideoCapture(videoInput)\n",
    "\n",
    "\n",
    "ret, frame = cap.read()\n",
    "cou = 0\n",
    "\n",
    "\n",
    "while(True):\n",
    "    cou = cou + 1\n",
    "    ret, frame = cap.read()  \n",
    "    \n",
    "    #cv2.imshow('frame',fgmask)\n",
    "    if ret==True:\n",
    "        gray_image = cv2.cvtColor(frame, cv2.COLOR_BGR2GRAY)\n",
    "        smoothedFrame = cv2.GaussianBlur(gray_image,(5,5),0)\n",
    "        \n",
    "        ret, thresh = cv2.threshold(smoothedFrame, 90, 255, 0)\n",
    "        \n",
    "        #circles = cv2.HoughCircles(thresh, cv2.HOUGH_GRADIENT, 1.2, 10)\n",
    "        \n",
    "        #if circles is not None:\n",
    "            # convert the (x, y) coordinates and radius of the circles to integers\n",
    "         #   circles = np.round(circles[0, :]).astype(\"int\")\n",
    " \n",
    "            # loop over the (x, y) coordinates and radius of the circles\n",
    "          #  for (x, y, r) in circles:\n",
    "                # draw the circle in the output image, then draw a rectangle\n",
    "                # corresponding to the center of the circle\n",
    "           #     cv2.circle(thresh, (x, y), r, (0, 255, 0), 4)\n",
    "            #    cv2.rectangle(thresh, (x - 5, y - 5), (x + 5, y + 5), (0, 128, 255), -1)\n",
    " \n",
    "        \n",
    "        # get contours\n",
    "        #im2, contours, hierarchy = cv2.findContours(thresh, cv2.RETR_TREE, cv2.CHAIN_APPROX_SIMPLE)\n",
    "        \n",
    "        #im3 = cv2.drawContours(im2, contours, -1, (0, 255, 0), 3)\n",
    "        \n",
    "        #diff = cv2.absdiff(smoothedFrame, gray_image)\n",
    "        \n",
    "        #thresh = 2\n",
    "        #maxValue = 255\n",
    " \n",
    "        # Basic threshold example\n",
    "       # th, dst = cv2.threshold(diff, thresh, maxValue, cv2.THRESH_BINARY);\n",
    "        \n",
    "        #kernel = np.ones((5,5), np.uint8)\n",
    "\n",
    "        \n",
    "        #img_dilation = cv2.dilate(dst, kernel, iterations=1)\n",
    "        \n",
    "       # fgmask = fgbg.apply(im2)\n",
    "        #keypoints = detector.detect(fgmask)\n",
    "        #im_with_keypoints = cv2.drawKeypoints(frame, keypoints, np.array([]), (255,255,255), cv2.DRAW_MATCHES_FLAGS_DRAW_RICH_KEYPOINTS)\n",
    "        # write the flipped frame\n",
    "        #out.write(frame)\n",
    "        cv2.imwrite(outputTemp + '/IMG_' + '{0:0{width}}'.format(cou, width=5) + '.bmp', thresh)\n",
    "        \n",
    "        if cou > 200:\n",
    "            break\n",
    "        \n",
    "        if cv2.waitKey(1) & 0xFF == ord('q'):\n",
    "            break\n",
    "    else:\n",
    "        break\n",
    "\n",
    "# Release everything if job is finished\n",
    "cap.release()\n",
    "#out.release()\n",
    "cv2.destroyAllWindows()\n",
    "    \n",
    "   "
   ]
  },
  {
   "cell_type": "code",
   "execution_count": 65,
   "metadata": {},
   "outputs": [
    {
     "data": {
      "text/plain": [
       "0"
      ]
     },
     "execution_count": 65,
     "metadata": {},
     "output_type": "execute_result"
    }
   ],
   "source": [
    "os.chdir(ffmpegPath)\n",
    "subprocess.call(['ffmpeg', '-y', '-r', '25', '-start_number', '0', '-i', outputTemp + '/IMG_%05d.bmp', '-vcodec','libx264','-pix_fmt', 'yuv420p', outputVid])\n",
    "os.system(\"start \"+ outputVid)"
   ]
  },
  {
   "cell_type": "code",
   "execution_count": null,
   "metadata": {},
   "outputs": [],
   "source": []
  },
  {
   "cell_type": "code",
   "execution_count": null,
   "metadata": {},
   "outputs": [],
   "source": []
  }
 ],
 "metadata": {
  "kernelspec": {
   "display_name": "Python 3",
   "language": "python",
   "name": "python3"
  },
  "language_info": {
   "codemirror_mode": {
    "name": "ipython",
    "version": 3
   },
   "file_extension": ".py",
   "mimetype": "text/x-python",
   "name": "python",
   "nbconvert_exporter": "python",
   "pygments_lexer": "ipython3",
   "version": "3.5.2"
  }
 },
 "nbformat": 4,
 "nbformat_minor": 2
}
